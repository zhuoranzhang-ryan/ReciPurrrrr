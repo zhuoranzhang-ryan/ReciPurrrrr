{
 "cells": [
  {
   "cell_type": "code",
   "execution_count": 46,
   "metadata": {},
   "outputs": [],
   "source": [
    "import re"
   ]
  },
  {
   "cell_type": "code",
   "execution_count": 50,
   "metadata": {},
   "outputs": [],
   "source": [
    "def paragraph_preprocessing(text):\n",
    "    text = re.sub(\"  \", \".\", text)\n",
    "    print(text)\n",
    "    text = text.split(\".\")\n",
    "    clean = [sentence.strip().capitalize() for sentence in text]\n",
    "    result = \". \".join(clean)\n",
    "    return result"
   ]
  },
  {
   "cell_type": "code",
   "execution_count": 51,
   "metadata": {},
   "outputs": [],
   "source": [
    "test1 = \"this is one of my family's favorites  unlike most recipes, this one calls for ground beef  serve over noodles or rice \"\n",
    "test2 = \"how to cook a whole or large piece of beef tenderloin  note from unknownchef86: this is a recipe i adopted in 2006. what about this one then. and this one, maybe? \""
   ]
  },
  {
   "cell_type": "code",
   "execution_count": 53,
   "metadata": {},
   "outputs": [
    {
     "name": "stdout",
     "output_type": "stream",
     "text": [
      "how to cook a whole or large piece of beef tenderloin.note from unknownchef86: this is a recipe i adopted in 2006. what about this one then. and this one, maybe? \n"
     ]
    },
    {
     "data": {
      "text/plain": [
       "'How to cook a whole or large piece of beef tenderloin. Note from unknownchef86: this is a recipe i adopted in 2006. What about this one then. And this one, maybe?'"
      ]
     },
     "execution_count": 53,
     "metadata": {},
     "output_type": "execute_result"
    }
   ],
   "source": [
    "result = paragraph_preprocessing(test2)\n",
    "result"
   ]
  },
  {
   "cell_type": "code",
   "execution_count": null,
   "metadata": {},
   "outputs": [],
   "source": []
  },
  {
   "cell_type": "code",
   "execution_count": null,
   "metadata": {},
   "outputs": [],
   "source": []
  }
 ],
 "metadata": {
  "kernelspec": {
   "display_name": "Python 3",
   "language": "python",
   "name": "python3"
  },
  "language_info": {
   "codemirror_mode": {
    "name": "ipython",
    "version": 3
   },
   "file_extension": ".py",
   "mimetype": "text/x-python",
   "name": "python",
   "nbconvert_exporter": "python",
   "pygments_lexer": "ipython3",
   "version": "3.6.10"
  }
 },
 "nbformat": 4,
 "nbformat_minor": 4
}
