{
 "cells": [
  {
   "cell_type": "code",
   "execution_count": 1,
   "metadata": {},
   "outputs": [],
   "source": [
    "import numpy as np\n",
    "import pandas as pd\n",
    "import json "
   ]
  },
  {
   "cell_type": "code",
   "execution_count": 2,
   "metadata": {},
   "outputs": [],
   "source": [
    "# Opening JSON file \n",
    "f = open(\"static/data/recipe_url.json\") \n",
    "  \n",
    "# returns JSON object as  \n",
    "# a dictionary \n",
    "data = json.load(f) \n",
    "\n",
    "f.close() "
   ]
  },
  {
   "cell_type": "code",
   "execution_count": 3,
   "metadata": {
    "collapsed": true
   },
   "outputs": [
    {
     "data": {
      "text/plain": [
       "[{'2886': {'name': 'best banana bread',\n",
       "   'recipe_img': 'https://img.sndimg.com:443/food/image/upload/c_thumb,q_80,w_721,h_406/v1/img/mpx/5458761_16x9.jpg'}},\n",
       " {'27208': {'name': 'to die for crock pot roast',\n",
       "   'recipe_img': 'https://img.sndimg.com:443/food/image/upload/c_thumb,q_80,w_721,h_406/v1/img/mpx/0279061_16x9.jpg'}},\n",
       " {'89204': {'name': 'crock pot chicken with black beans   cream cheese',\n",
       "   'recipe_img': 'https://img.sndimg.com:443/food/image/upload/c_thumb,q_80,w_721,h_406/v1/img/recipes/89/20/4/uxMwt1VGQ5m2ePyzwHWy_salsa-chicken-black-beans-2312.jpg'}},\n",
       " {'39087': {'name': 'creamy cajun chicken pasta',\n",
       "   'recipe_img': 'https://img.sndimg.com:443/food/image/upload/c_thumb,q_80,w_721,h_406/v1/img/mpx/0279070_16x9.jpg'}},\n",
       " {'67256': {'name': 'best ever banana cake with cream cheese frosting',\n",
       "   'recipe_img': 'https://img.sndimg.com:443/food/image/upload/c_thumb,q_80,w_721,h_406/v1/img/mpx/0279062_16x9.jpg'}},\n",
       " {'54257': {'name': 'yes  virginia there is a great meatloaf',\n",
       "   'recipe_img': 'https://img.sndimg.com:443/food/image/upload/c_thumb,q_80,w_721,h_406/v1/img/mpx/0279069_16x9.jpg'}},\n",
       " {'22782': {'name': 'jo mama s world famous spaghetti',\n",
       "   'recipe_img': 'https://img.sndimg.com:443/food/image/upload/c_thumb,q_80,w_721,h_406/v1/img/recipes/22/78/2/bMWnCGreSgeji8rnPIAp_JMWFS 4 - final_1 - horizontal.png'}},\n",
       " {'32204': {'name': 'whatever floats your boat  brownies',\n",
       "   'recipe_img': 'https://img.sndimg.com:443/food/image/upload/c_thumb,q_80,w_721,h_406/v1/img/mpx/0279065_16x9.jpg'}},\n",
       " {'69173': {'name': 'kittencal s italian melt in your mouth meatballs',\n",
       "   'recipe_img': 'https://img.sndimg.com:443/food/image/upload/c_thumb,q_80,w_721,h_406/v1/img/mpx/0279064_16x9.jpg'}},\n",
       " {'68955': {'name': 'japanese mum s chicken',\n",
       "   'recipe_img': 'https://img.sndimg.com:443/food/image/upload/c_thumb,q_80,w_721,h_406/v1/img/mpx/0279063_16x9.jpg'}},\n",
       " {'33919': {'name': 'creamy burrito casserole',\n",
       "   'recipe_img': 'https://img.sndimg.com:443/food/image/upload/c_thumb,q_80,w_721,h_406/v1/img/mpx/0279068_16x9.jpg'}},\n",
       " {'82102': {'name': 'kittencal s moist cheddar garlic oven fried chicken breast',\n",
       "   'recipe_img': 'https://img.sndimg.com:443/food/image/upload/c_thumb,q_80,w_721,h_406/v1/img/recipes/82/10/2/C3VxQIrFT1aDvMUykuA0_0S9A5607.jpg'}},\n",
       " {'25885': {'name': 'banana banana bread',\n",
       "   'recipe_img': 'https://img.sndimg.com:443/food/image/upload/c_thumb,q_80,w_721,h_406/v1/img/recipes/25/88/5/CRAukFk1Tf2xpDPtcOUB_0S9A1642.jpg'}},\n",
       " {'28148': {'name': 'oven fried chicken chimichangas',\n",
       "   'recipe_img': 'https://img.sndimg.com:443/food/image/upload/c_thumb,q_80,w_721,h_406/v1/img/recipes/28/14/8/Ew9disSrTws0LLBWlpbQ_0S9A2424.jpg'}},\n",
       " {'135350': {'name': 'fannie farmer s classic baked macaroni   cheese',\n",
       "   'recipe_img': 'https://img.sndimg.com:443/food/image/upload/c_thumb,q_80,w_721,h_406/v1/img/recipes/13/53/50/kMWg48mzQPqqHG00V5xT_1maccheese3.jpg'}},\n",
       " {'26110': {'name': 'southern buttermilk biscuits',\n",
       "   'recipe_img': 'https://img.sndimg.com:443/food/image/upload/c_thumb,q_80,w_721,h_406/v1/img/recipes/26/11/0/DmfK6TnxRUqzDwn2P4tb_batch23-7025.jpg'}},\n",
       " {'99476': {'name': 'the best easy beef and broccoli stir fry',\n",
       "   'recipe_img': 'https://img.sndimg.com:443/food/image/upload/c_thumb,q_80,w_721,h_406/v1/img/mpx/5458753_16x9.jpg'}},\n",
       " {'10744': {'name': 'delicious chicken pot pie',\n",
       "   'recipe_img': 'https://img.sndimg.com:443/food/image/upload/c_thumb,q_80,w_721,h_406/v1/img/recipes/10/74/4/AyB790BXQZSOoGfb5I8o_0S9A2765.jpg'}},\n",
       " {'129926': {'name': 'simply sour cream chicken enchiladas',\n",
       "   'recipe_img': 'https://img.sndimg.com:443/food/image/upload/c_thumb,q_80,w_721,h_406/v1/img/recipes/12/99/26/fqaHKUZ5Qxe1JYEmj5sO_DSC02592.jpg'}},\n",
       " {'33671': {'name': 'crock pot whole chicken',\n",
       "   'recipe_img': 'https://img.sndimg.com:443/food/image/upload/c_thumb,q_80,w_721,h_406/v1/img/recipes/33/67/1/PpaBfRQmQDG7MToNnJu1_crockpot-whole-chicken-2256.jpg'}},\n",
       " {'63689': {'name': 'my family s favorite sloppy joes  pizza joes',\n",
       "   'recipe_img': 'https://img.sndimg.com:443/food/image/upload/c_thumb,q_80,w_721,h_406/v1/img/recipes/63/68/9/omzyoNv4TbqKCfkCXhax_sloppy joe.jpg3.jpg'}},\n",
       " {'150863': {'name': 'panera s cream cheese potato soup',\n",
       "   'recipe_img': 'https://img.sndimg.com:443/food/image/upload/c_thumb,q_80,w_721,h_406/v1/img/recipes/15/08/63/zbOVaZ4MSAO81CYiVyZK_panera-baked-potato-cream-cheese-soup-3763.jpg'}},\n",
       " {'97496': {'name': 'soft snickerdoodle cookies',\n",
       "   'recipe_img': 'https://img.sndimg.com:443/food/image/upload/c_thumb,q_80,w_721,h_406/v1/img/mpx/5458764_16x9.jpg'}},\n",
       " {'107786': {'name': 'beth s melt in your mouth barbecue ribs  oven',\n",
       "   'recipe_img': 'https://img.sndimg.com:443/food/image/upload/c_thumb,q_80,w_721,h_406/v1/img/mpx/5458743_16x9.jpg'}},\n",
       " {'5170': {'name': 'pete s scratch pancakes',\n",
       "   'recipe_img': 'https://img.sndimg.com:443/food/image/upload/c_thumb,q_80,w_721,h_406/v1/img/recipes/51/70/nwoyHKPSAWTjjpcSL5gs_scratch-pancakes-7.jpg'}},\n",
       " {'32614': {'name': 'fudge crinkles  a great 4 ingredient cake mix cookie',\n",
       "   'recipe_img': 'https://img.sndimg.com:443/food/image/upload/c_thumb,q_80,w_721,h_406/v1/img/mpx/0279011_16x9.jpg'}},\n",
       " {'95222': {'name': 'pork chops yum yum',\n",
       "   'recipe_img': 'https://img.sndimg.com:443/food/image/upload/c_thumb,q_80,w_721,h_406/v1/img/recipes/95/22/2/lBDNCe9SnyGbB0iOyEVG_pork-chops-yum-yum-5930.jpg'}},\n",
       " {'38298': {'name': 'olive garden copycat zuppa toscana',\n",
       "   'recipe_img': 'https://img.sndimg.com:443/food/image/upload/c_thumb,q_80,w_721,h_406/v1/img/mpx/5458760_16x9.jpg'}},\n",
       " {'77397': {'name': 'kittencal s 5 minute cinnamon flop brunch cake',\n",
       "   'recipe_img': 'https://img.sndimg.com:443/food/image/upload/c_thumb,q_80,w_721,h_406/v1/img/recipes/77/39/7/kxel5d6sQouVmnsDO9BZ_brunch flop cake SITE-3.jpg'}},\n",
       " {'131018': {'name': 'pulled pork  crock pot',\n",
       "   'recipe_img': 'https://img.sndimg.com:443/food/image/upload/c_thumb,q_80,w_721,h_406/v1/img/recipes/13/10/18/ZQJQBHP0QTSKpUuWOcZh-017-pulled-pork.jpg'}},\n",
       " {'29679': {'name': 'reeses squares   5 ingredients   no bake  reese s',\n",
       "   'recipe_img': 'https://img.sndimg.com:443/food/image/upload/c_thumb,q_80,w_721,h_406/v1/img/recipes/29/67/9/J1stgzFRTqkYn2HpK1Kn_RS 7 - final_4.jpg'}},\n",
       " {'87782': {'name': 'greek potatoes  oven roasted and delicious',\n",
       "   'recipe_img': 'https://img.sndimg.com:443/food/image/upload/c_thumb,q_80,w_721,h_406/v1/img/recipes/87/78/2/GvYCvLdzQb2AyElhhEou_batch23-7123.jpg'}},\n",
       " {'4627': {'name': 'chicken tortilla soup ii',\n",
       "   'recipe_img': 'https://img.sndimg.com:443/food/image/upload/c_thumb,q_80,w_721,h_406/v1/img/recipes/46/27/UrThalDbThGzvrI0b590_CTS 4 - final_2.jpg'}},\n",
       " {'73166': {'name': 'the best chili you will ever taste',\n",
       "   'recipe_img': 'https://img.sndimg.com:443/food/image/upload/c_thumb,q_80,w_721,h_406/v1/img/recipes/73/16/6/jQ7zEif7QAuWHpy0nwFs_best chili SITE-3.jpg'}},\n",
       " {'50719': {'name': 'the sweetest blueberry muffins',\n",
       "   'recipe_img': 'https://img.sndimg.com:443/food/image/upload/c_thumb,q_80,w_721,h_406/v1/img/recipes/50/71/9/XgiEMwG3QZyGYIkRwUzM_0S9A3646.jpg'}},\n",
       " {'141983': {'name': 'better than olive garden alfredo sauce',\n",
       "   'recipe_img': 'https://img.sndimg.com:443/food/image/upload/c_thumb,q_80,w_721,h_406/v1/img/mpx/5458747_16x9.jpg'}},\n",
       " {'37336': {'name': 'melt in your mouth chicken breasts',\n",
       "   'recipe_img': 'https://img.sndimg.com:443/food/image/upload/c_thumb,q_80,w_721,h_406/v1/img/recipes/37/33/6/1KevDZYLSSuYcrmrXpeu_0S9A1389.jpg'}},\n",
       " {'28768': {'name': 'absolute best ever lasagna',\n",
       "   'recipe_img': 'https://img.sndimg.com:443/food/image/upload/c_thumb,q_80,w_721,h_406/v1/img/recipes/28/76/8/SyAcnUdwTHGQfekagLBj_ABEL 3 - final_1.png'}},\n",
       " {'43509': {'name': 'crumb topped banana muffins',\n",
       "   'recipe_img': 'https://img.sndimg.com:443/food/image/upload/c_thumb,q_80,w_721,h_406/v1/img/recipes/43/50/9/1eW291d3QG2kKUHfRgon_crumblemuffins2 (1 of 1).jpg'}},\n",
       " {'60350': {'name': 'easy stove top macaroni   cheese',\n",
       "   'recipe_img': 'https://img.sndimg.com:443/food/image/upload/c_thumb,q_80,w_721,h_406/v1/img/mpx/5458758_16x9.jpg'}},\n",
       " {'76864': {'name': 'tsr 1993 version of cinnabon cinnamon rolls by todd wilbur',\n",
       "   'recipe_img': 'https://img.sndimg.com:443/food/image/upload/c_thumb,q_80,w_721,h_406/v1/img/recipes/17/23/2/paSmx61cSyzxhemygqZv_CR 5 - final_2.png'}},\n",
       " {'150384': {'name': 'panera broccoli cheese soup',\n",
       "   'recipe_img': 'https://img.sndimg.com:443/food/image/upload/c_thumb,q_80,w_721,h_406/v1/img/mpx/5458759_16x9.jpg'}},\n",
       " {'27520': {'name': 'poverty meal',\n",
       "   'recipe_img': 'https://img.sndimg.com:443/food/image/upload/c_thumb,q_80,w_721,h_406/v1/img/recipes/27/52/0/aP03XEPnTTadErA9YpVZ_povety meal.jpg1.jpg'}},\n",
       " {'2496': {'name': 'dark chocolate cake',\n",
       "   'recipe_img': 'https://img.sndimg.com:443/food/image/upload/c_thumb,q_80,w_721,h_406/v1/img/recipes/24/96/WnJFBuTMQEj2PNZ1hLwg_batch23-7154.jpg'}},\n",
       " {'89207': {'name': 'kittencal s chocolate frosting icing',\n",
       "   'recipe_img': 'https://img.sndimg.com:443/food/image/upload/c_thumb,q_80,w_721,h_406/v1/img/recipes/89/20/7/Gd10moETkiN5jxAII7jk_choc frosting-1231.jpg'}},\n",
       " {'31750': {'name': 'the best ever waffles',\n",
       "   'recipe_img': 'https://img.sndimg.com:443/food/image/upload/c_thumb,q_80,w_721,h_406/v1/img/recipes/31/75/0/OAoTlkKTayFGct4goFYg_BEW 8 - final_6.png'}},\n",
       " {'9272': {'name': 'wonderful salsa',\n",
       "   'recipe_img': 'https://img.sndimg.com:443/food/image/upload/c_thumb,q_80,w_721,h_406/v1/img/recipes/92/72/57kV2MbdSregy8TZfkHj_batch23-6580.jpg'}},\n",
       " {'92095': {'name': 'authentic italian meatballs',\n",
       "   'recipe_img': 'https://img.sndimg.com:443/food/image/upload/c_thumb,q_80,w_721,h_406/v1/img/recipes/92/09/5/WeEQibHTSfSIv0EFIi52_authentic italian meatballs_final 2.jpg'}},\n",
       " {'78814': {'name': 'kittencal s chicken crescent roll casserole',\n",
       "   'recipe_img': 'https://img.sndimg.com:443/food/image/upload/c_thumb,q_80,w_721,h_406/v1/img/recipes/78/81/4/PDqQz12ERbGnYcExq36x_kittencals chicken crescent roll casserole 78814-7.jpg'}},\n",
       " {'132263': {'name': '5 minute vegan pancakes',\n",
       "   'recipe_img': 'https://img.sndimg.com:443/food/image/upload/c_thumb,q_80,w_721,h_406/v1/img/recipes/13/22/63/D30C2lxTy6SAflQlb61Q_VP 4 - final_2.jpg'}},\n",
       " {'76930': {'name': 'funky chicken with sesame noodles',\n",
       "   'recipe_img': 'https://img.sndimg.com:443/food/image/upload/c_thumb,q_80,w_721,h_406/v1/img/recipes/76/93/0/qERwJKRWSZi3TBYuhqkj_funky-chicken-with-sesame-noodles-10.jpg'}},\n",
       " {'53914': {'name': 'mama s supper club tilapia parmesan',\n",
       "   'recipe_img': 'https://img.sndimg.com:443/food/image/upload/c_thumb,q_80,w_721,h_406/v1/img/recipes/53/91/4/nPLRF7J7TgGEGJdTTv9C_paremsan-tilapia-15-minute-3524.jpg'}},\n",
       " {'15411': {'name': 'impossible peanut butter cookies',\n",
       "   'recipe_img': 'https://img.sndimg.com:443/food/image/upload/c_thumb,q_80,w_721,h_406/v1/img/mpx/0279013_16x9.jpg'}},\n",
       " {'8701': {'name': 'should be illegal oven bbq ribs',\n",
       "   'recipe_img': 'https://img.sndimg.com:443/food/image/upload/c_thumb,q_80,w_721,h_406/v1/img/recipes/87/01/HRWmllIgRqWaKn0kaGKo_IMG_3154 illegal bbq ribs.jpg'}},\n",
       " {'73825': {'name': 'why i joined zaar carrot cake',\n",
       "   'recipe_img': 'https://img.sndimg.com:443/food/image/upload/c_thumb,q_80,w_721,h_406/v1/img/recipes/73/82/5/VIfjsbVmSubdAsbjKPXX_0S9A1692.jpg'}},\n",
       " {'90674': {'name': 'denny s style french toast',\n",
       "   'recipe_img': 'https://img.sndimg.com:443/food/image/upload/c_thumb,q_80,w_721,h_406/v1/img/recipes/90/67/4/C7A0YlggR8e48Fgg0iFZ_DSFT 6 - final_3.png'}},\n",
       " {'15242': {'name': 'cracker barrel s hashbrowns casserole   copycat',\n",
       "   'recipe_img': 'https://img.sndimg.com:443/food/image/upload/c_thumb,q_80,w_721,h_406/v1/img/recipes/15/24/2/WHQJZyXcSvqGFnAl5QEf_cracker-barrell-hash-brown-casserole_1794.jpg'}},\n",
       " {'32844': {'name': 'pasta with sausage  tomatoes  and cream',\n",
       "   'recipe_img': 'https://img.sndimg.com:443/food/image/upload/c_thumb,q_80,w_721,h_406/v1/img/mpx/0278766_16x9.jpg'}},\n",
       " {'80156': {'name': 'the most wonderful gingerbread cookies',\n",
       "   'recipe_img': 'https://img.sndimg.com:443/food/image/upload/c_thumb,q_80,w_721,h_406/v1/img/mpx/0278333_16x9.jpg'}},\n",
       " {'200296': {'name': 'kittencal s easy and delicious ranch parmesan chicken',\n",
       "   'recipe_img': 'https://img.sndimg.com:443/food/image/upload/c_thumb,q_80,w_721,h_406/v1/img/recipes/20/02/96/BWYIg8LTQTufENYENYcw_0S9A3738.jpg'}},\n",
       " {'63828': {'name': 'perfect pork tenderloin',\n",
       "   'recipe_img': 'https://img.sndimg.com:443/food/image/upload/c_thumb,q_80,w_721,h_406/v1/img/recipes/63/82/8/SRqYsUHTuKZwBGosxbdC_manchego-stuffed-mushrooms-6018.jpg'}},\n",
       " {'31128': {'name': 'yummy crunchy apple pie',\n",
       "   'recipe_img': 'https://img.sndimg.com:443/food/image/upload/c_thumb,q_80,w_721,h_406/v1/img/recipes/31/12/8/t4sT7E0wT05Kd3ncgzOe_AP 10 - final_4.png'}},\n",
       " {'71373': {'name': 'country white bread or dinner rolls  bread machine',\n",
       "   'recipe_img': 'https://img.sndimg.com:443/food/image/upload/c_thumb,q_80,w_721,h_406/v1/img/recipes/71/37/3/picRqcale.jpg'}},\n",
       " {'70165': {'name': 'pizza dough for thin crust pizza',\n",
       "   'recipe_img': 'https://img.sndimg.com:443/food/image/upload/c_thumb,q_80,w_721,h_406/v1/img/recipes/70/16/5/VpYCAyQQw2c3LFvutQsZ_Final 1 - Heart Shaped Pizza.jpg'}},\n",
       " {'33921': {'name': 'really good vegetarian meatloaf  really',\n",
       "   'recipe_img': 'https://img.sndimg.com:443/food/image/upload/c_thumb,q_80,w_721,h_406/v1/img/recipes/33/92/1/wS6bmjUQSqDGOEFFnDbB_untitled-7953.jpg'}},\n",
       " {'26370': {'name': 'the only chocolate cake recipe you ll ever need   devil s food',\n",
       "   'recipe_img': 'https://img.sndimg.com:443/food/image/upload/c_thumb,q_80,w_721,h_406/v1/img/recipes/26/37/0/bzwUWgTTGZ83fb1AbjMQ_CC 8 - final_6.jpg'}},\n",
       " {'77585': {'name': 'copycat olive garden minestrone soup by todd wilbur',\n",
       "   'recipe_img': 'https://img.sndimg.com:443/food/image/upload/c_thumb,q_80,w_721,h_406/v1/img/recipes/59/22/7/bSzaueBgTi6fGcVz8JXA_rHYgtosnSuOj9I4ZrsSy_olive-garden-minestrone-soup-0314.jpg'}},\n",
       " {'34382': {'name': 'mashed red potatoes with garlic and parmesan',\n",
       "   'recipe_img': 'https://img.sndimg.com:443/food/image/upload/c_thumb,q_80,w_721,h_406/v1/img/recipes/34/38/2/picEKNrvR.jpg'}},\n",
       " {'33489': {'name': 'top secret recipes version of kfc coleslaw by todd wilbur',\n",
       "   'recipe_img': 'https://img.sndimg.com:443/food/image/upload/c_thumb,q_80,w_721,h_406/v1/img/recipes/67/28/4/7KPRuvULS66sr9LB9lC0-cole-slaw.JPG'}},\n",
       " {'27144': {'name': 'chocolate  chocolate  chocolate  bundt cake with chocolate glaze',\n",
       "   'recipe_img': 'https://img.sndimg.com:443/food/image/upload/c_thumb,q_80,w_721,h_406/v1/img/recipes/27/14/4/YSWmkLQtRpinfqX46cc0_1choccake3.jpg'}},\n",
       " {'114392': {'name': 'ultimate pizza sauce',\n",
       "   'recipe_img': 'https://img.sndimg.com:443/food/image/upload/c_thumb,q_80,w_721,h_406/v1/img/recipes/11/43/92/picz5JbOA.jpg'}},\n",
       " {'27210': {'name': 'best grilled pork chops',\n",
       "   'recipe_img': 'https://img.sndimg.com:443/food/image/upload/c_thumb,q_80,w_721,h_406/v1/img/recipes/27/21/0/DT14wSVKTrdBZOu7p2MR_GPC 4 - final_2.jpg'}},\n",
       " {'106251': {'name': 'roasted cauliflower   16 roasted cloves of garlic',\n",
       "   'recipe_img': 'https://img.sndimg.com:443/food/image/upload/c_thumb,q_80,w_721,h_406/v1/img/recipes/10/62/51/D9l5R78tQDajxdSnMhEO_DSC_1005.jpg'}},\n",
       " {'66596': {'name': 'kittencal s famous greek salad',\n",
       "   'recipe_img': 'https://img.sndimg.com:443/food/image/upload/c_thumb,q_80,w_721,h_406/v1/img/recipes/66/59/6/UbR6JLoqSWOnHGkUd9Q7_DSC02040.jpg'}},\n",
       " {'52035': {'name': 'oreo balls',\n",
       "   'recipe_img': 'https://img.sndimg.com:443/food/image/upload/c_thumb,q_80,w_721,h_406/v1/img/recipes/52/03/5/tVR1tbsS069Ay1YFTLIA_0S9A6681.jpg'}},\n",
       " {'63786': {'name': 'steak  or chicken  fajitas',\n",
       "   'recipe_img': 'https://img.sndimg.com:443/food/image/upload/c_thumb,q_80,w_721,h_406/v1/img/mpx/5458757_16x9.jpg'}},\n",
       " {'43023': {'name': 'creamy garlic penne pasta',\n",
       "   'recipe_img': 'https://img.sndimg.com:443/food/image/upload/c_thumb,q_80,w_721,h_406/v1/img/recipes/43/02/3/Z9lYSjJT86fzUAlIWJdH_0S9A6422.jpg'}},\n",
       " {'69630': {'name': 'white almond sour cream wedding cake',\n",
       "   'recipe_img': 'https://img.sndimg.com:443/food/image/upload/c_thumb,q_80,w_721,h_406/v1/img/recipes/69/63/0/kVMtb6o4QgKBhmRLEiZY_almondcake-1894.jpg'}},\n",
       " {'103215': {'name': 'panda express orange chicken',\n",
       "   'recipe_img': 'https://img.sndimg.com:443/food/image/upload/c_thumb,q_80,w_721,h_406/v1/img/mpx/5458745_16x9.jpg'}},\n",
       " {'205890': {'name': 'soft peanut butter cookies',\n",
       "   'recipe_img': 'https://img.sndimg.com:443/food/image/upload/c_thumb,q_80,w_721,h_406/v1/img/mpx/5458762_16x9.jpg'}},\n",
       " {'82925': {'name': 'edna s apple crumble  aka  apple crisp',\n",
       "   'recipe_img': 'https://img.sndimg.com:443/food/image/upload/c_thumb,q_80,w_721,h_406/v1/img/recipes/82/92/5/picnqIY8t.jpg'}},\n",
       " {'26217': {'name': 'bev s spaghetti sauce',\n",
       "   'recipe_img': 'https://img.sndimg.com:443/food/image/upload/c_thumb,q_80,w_721,h_406/v1/img/recipes/26/21/7/ZF3VGfKMT8Wyf0Cve4bD_untitled-0860.jpg'}},\n",
       " {'128956': {'name': 'ww 0 point weight watchers cabbage soup',\n",
       "   'recipe_img': 'https://img.sndimg.com:443/food/image/upload/c_thumb,q_80,w_721,h_406/v1/img/recipes/12/89/56/tunMZv24R9W8wsDTVD68_cabbage soup (1 of 4).jpg'}},\n",
       " {'46922': {'name': 'awesome baked ham',\n",
       "   'recipe_img': 'https://img.sndimg.com:443/food/image/upload/c_thumb,q_80,w_721,h_406/v1/img/recipes/46/92/2/fJfuxLU5TnezliEet9fx_DSC_0147-2.jpg'}},\n",
       " {'95569': {'name': 'easy and tasty barbecue chicken sandwiches in the crock pot',\n",
       "   'recipe_img': 'https://img.sndimg.com:443/food/image/upload/c_thumb,q_80,w_721,h_406/v1/img/recipes/95/56/9/picc4gJ69.jpg'}},\n",
       " {'15072': {'name': 'perfect chocolate brownies',\n",
       "   'recipe_img': 'https://img.sndimg.com:443/food/image/upload/c_thumb,q_80,w_721,h_406/v1/img/recipes/15/07/2/macPUOkeSXNBvlsyA8bM_PCB 6 - final_4.jpg'}},\n",
       " {'349246': {'name': 'microwave chocolate mug brownie',\n",
       "   'recipe_img': 'https://img.sndimg.com:443/food/image/upload/c_thumb,q_80,w_721,h_406/v1/img/recipes/34/92/46/22RvgokhR8OinCZplB99_untitled-2854.jpg'}},\n",
       " {'47195': {'name': 'uncle bill s microwave potato chips',\n",
       "   'recipe_img': 'https://img.sndimg.com:443/food/image/upload/c_thumb,q_80,w_721,h_406/v1/img/recipes/47/19/5/picUDzY72.jpg'}},\n",
       " {'16531': {'name': 'crock pot garlic brown sugar chicken',\n",
       "   'recipe_img': 'https://img.sndimg.com:443/food/image/upload/c_thumb,q_80,w_721,h_406/v1/img/recipes/16/53/1/picvtN3Gu.jpg'}},\n",
       " {'108364': {'name': 'southern fried chicken',\n",
       "   'recipe_img': 'https://img.sndimg.com:443/food/image/upload/c_thumb,q_80,w_721,h_406/v1/img/recipes/10/83/64/zMxvH7hSyoavfLWAwDJA_kfc21500.jpg'}},\n",
       " {'8782': {'name': 'roast  sticky  chicken',\n",
       "   'recipe_img': 'https://img.sndimg.com:443/food/image/upload/c_thumb,q_80,w_721,h_406/v1/img/recipes/87/82/xUKlcnrfSAWCxKVcgA0F_RSC 5 - final_3.jpg'}},\n",
       " {'107997': {'name': '4 minute spicy garlic shrimp',\n",
       "   'recipe_img': 'https://img.sndimg.com:443/food/image/upload/c_thumb,q_80,w_721,h_406/v1/img/recipes/10/79/97/picSxulFo.jpg'}},\n",
       " {'22176': {'name': 'classic baked ziti',\n",
       "   'recipe_img': 'https://img.sndimg.com:443/food/image/upload/c_thumb,q_80,w_721,h_406/v1/img/recipes/22/17/6/picDKqCeJ.jpg'}},\n",
       " {'48760': {'name': 'szechuan noodles with spicy beef sauce',\n",
       "   'recipe_img': 'https://img.sndimg.com:443/food/image/upload/c_thumb,q_80,w_721,h_406/v1/img/recipes/48/76/0/5hkdEzvxTPq1mbdqRf6i_0S9A6427.jpg'}},\n",
       " {'46877': {'name': 'uncle bill s whipped shortbread cookies',\n",
       "   'recipe_img': 'https://img.sndimg.com:443/food/image/upload/c_thumb,q_80,w_721,h_406/v1/img/mpx/0279010_16x9.jpg'}},\n",
       " {'133751': {'name': 'restaurant teriyaki sauce',\n",
       "   'recipe_img': 'https://img.sndimg.com:443/food/image/upload/c_thumb,q_80,w_721,h_406/v1/img/recipes/13/37/51/IrDuUPieR1GP9vviVyiM_restaurant-teriyaki-sauce-133751_-5.jpg'}},\n",
       " {'53878': {'name': 'amazing white trash puff balls',\n",
       "   'recipe_img': 'https://img.sndimg.com:443/food/image/upload/c_thumb,q_80,w_721,h_406/v1/img/recipes/53/87/8/IlABV4fQ2Wt6smSS0Zar_DSC_0065-2.jpg'}},\n",
       " {'145038': {'name': 'caramelized baked chicken legs wings',\n",
       "   'recipe_img': 'https://img.sndimg.com:443/food/image/upload/c_thumb,q_80,w_721,h_406/v1/img/recipes/14/50/38/narIiRSK1QtMnGNiGvg1_017 caramelized chicken legs.jpg'}},\n",
       " {'65340': {'name': 'buttery bread machine rolls',\n",
       "   'recipe_img': 'https://img.sndimg.com:443/food/image/upload/c_thumb,q_80,w_721,h_406/v1/img/recipes/65/34/0/LdS3flAmS1m3bqNnldxM_untitled-0835.jpg'}},\n",
       " {'63071': {'name': 'the best belgian waffles',\n",
       "   'recipe_img': 'https://img.sndimg.com:443/food/image/upload/c_thumb,q_80,w_721,h_406/v1/img/recipes/63/07/1/Oey61BTvKAEV0tVQz4gU_untitled-1868.jpg'}},\n",
       " {'221743': {'name': 'kittencal s best blasted rapid roast whole chicken',\n",
       "   'recipe_img': 'https://img.sndimg.com:443/food/image/upload/c_thumb,q_80,w_721,h_406/v1/img/recipes/22/17/43/JvNykvMHSqOdINSSdR6l_0S9A6568.jpg'}},\n",
       " {'56103': {'name': 'roasted brussels sprouts',\n",
       "   'recipe_img': 'https://img.sndimg.com:443/food/image/upload/c_thumb,q_80,w_721,h_406/v1/img/recipes/56/10/3/c6Zrly8oQ8OPBImWQBDz_BS 5 - final_3.png'}},\n",
       " {'87085': {'name': 'southwestern baked spaghetti',\n",
       "   'recipe_img': 'https://img.sndimg.com:443/food/image/upload/c_thumb,q_80,w_721,h_406/v1/img/recipes/87/08/5/9TA3cQQwRV2jWyCT29i4_SS 4 - final_1.jpg'}},\n",
       " {'1356': {'name': 'ground beef stuffed green bell peppers with cheese',\n",
       "   'recipe_img': 'https://img.sndimg.com:443/food/image/upload/c_thumb,q_80,w_721,h_406/v1/img/recipes/13/56/wK9gMwSDOh2IAcRcZ8Hw_DSC03106.jpg'}},\n",
       " {'31717': {'name': 'olive garden pasta e fagioli soup in a crock pot  copycat',\n",
       "   'recipe_img': 'https://img.sndimg.com:443/food/image/upload/c_thumb,q_80,w_721,h_406/v1/img/recipes/31/71/7/SDnPxcQbRBSGK2q5dAkJ_COGPFS 4 - final_2.png'}}]"
      ]
     },
     "execution_count": 3,
     "metadata": {},
     "output_type": "execute_result"
    }
   ],
   "source": [
    "data"
   ]
  },
  {
   "cell_type": "code",
   "execution_count": 39,
   "metadata": {},
   "outputs": [
    {
     "data": {
      "text/plain": [
       "'https://img.sndimg.com:443/food/image/upload/c_thumb,q_80,w_721,h_406/v1/img/recipes/76/93/0/qERwJKRWSZi3TBYuhqkj_funky-chicken-with-sesame-noodles-10.jpg'"
      ]
     },
     "execution_count": 39,
     "metadata": {},
     "output_type": "execute_result"
    }
   ],
   "source": [
    "list(data[50].values())[0]['recipe_img']"
   ]
  },
  {
   "cell_type": "code",
   "execution_count": 45,
   "metadata": {},
   "outputs": [
    {
     "data": {
      "text/plain": [
       "105"
      ]
     },
     "execution_count": 45,
     "metadata": {},
     "output_type": "execute_result"
    }
   ],
   "source": [
    "len(data)"
   ]
  },
  {
   "cell_type": "code",
   "execution_count": 52,
   "metadata": {},
   "outputs": [],
   "source": [
    "selection = np.random.randint(0, len(data)+1 ,3)"
   ]
  },
  {
   "cell_type": "code",
   "execution_count": 53,
   "metadata": {},
   "outputs": [
    {
     "data": {
      "text/plain": [
       "79"
      ]
     },
     "execution_count": 53,
     "metadata": {},
     "output_type": "execute_result"
    }
   ],
   "source": [
    "selection[0]"
   ]
  },
  {
   "cell_type": "code",
   "execution_count": 55,
   "metadata": {},
   "outputs": [
    {
     "data": {
      "text/plain": [
       "76930"
      ]
     },
     "execution_count": 55,
     "metadata": {},
     "output_type": "execute_result"
    }
   ],
   "source": [
    "int(list(data[50].keys())[0])"
   ]
  },
  {
   "cell_type": "code",
   "execution_count": null,
   "metadata": {},
   "outputs": [],
   "source": []
  }
 ],
 "metadata": {
  "kernelspec": {
   "display_name": "Python 3",
   "language": "python",
   "name": "python3"
  },
  "language_info": {
   "codemirror_mode": {
    "name": "ipython",
    "version": 3
   },
   "file_extension": ".py",
   "mimetype": "text/x-python",
   "name": "python",
   "nbconvert_exporter": "python",
   "pygments_lexer": "ipython3",
   "version": "3.6.10"
  }
 },
 "nbformat": 4,
 "nbformat_minor": 4
}
