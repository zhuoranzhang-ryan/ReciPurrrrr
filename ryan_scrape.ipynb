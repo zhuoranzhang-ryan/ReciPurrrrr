{
 "cells": [
  {
   "cell_type": "code",
   "execution_count": null,
   "metadata": {},
   "outputs": [],
   "source": [
    "from bs4 import BeautifulSoup\n",
    "from splinter import Browser\n",
    "import time\n",
    "import requests\n",
    "\n",
    "def init_browser():\n",
    "    executable_path = {\"executable_path\": \"chromedriver\"}\n",
    "    return Browser(\"chrome\", **executable_path, headless=True)\n",
    "\n",
    "def scrape_image(recipe_id):\n",
    "    browser = init_browser()\n",
    "    print(\"browser opened\")\n",
    "    website_url = f\"https://www.food.com/recipe-{recipe_id}\"\n",
    "    browser.visit(website_url)\n",
    "#     time.sleep(1)\n",
    "    website_html = browser.html\n",
    "    print(\"Got html\")\n",
    "    website_soup = BeautifulSoup(website_html, \"html.parser\")\n",
    "    website_results = website_soup.find(\"div\", class_=\"inner-wrapper\")\n",
    "    print(website_results)\n",
    "    picture_url = website_results.img[\"data-src\"]\n",
    "#     browser.quit()\n",
    "    # print(picture_url)\n",
    "    print(\"Picture found!!!\")\n",
    "    return picture_url\n",
    "\n",
    "print(scrape_image(39087))"
   ]
  },
  {
   "cell_type": "code",
   "execution_count": 64,
   "metadata": {},
   "outputs": [],
   "source": [
    "from bs4 import BeautifulSoup\n",
    "from splinter import Browser\n",
    "import time\n",
    "import requests\n",
    "\n",
    "def init_browser():\n",
    "    executable_path = {\"executable_path\": \"chromedriver\"}\n",
    "    return Browser(\"chrome\", **executable_path, headless=True)\n",
    "browser = init_browser()"
   ]
  },
  {
   "cell_type": "code",
   "execution_count": 65,
   "metadata": {},
   "outputs": [],
   "source": [
    "def scrape_image(recipe_id, browser=browser):\n",
    "    print(\"browser opened\")\n",
    "    website_url = f\"https://www.food.com/recipe-{recipe_id}\"\n",
    "    browser.visit(website_url)\n",
    "    # time.sleep(1)\n",
    "    website_html = browser.html\n",
    "    website_soup = BeautifulSoup(website_html, \"html.parser\")\n",
    "    print(\"html parsed\")\n",
    "    website_results = website_soup.find(\"div\", class_=\"inner-wrapper\")\n",
    "    \n",
    "    try:\n",
    "        picture_url = website_results.img[\"data-src\"]\n",
    "        print(\"Picture found!!!\")\n",
    "        return picture_url\n",
    "    \n",
    "    except:\n",
    "        flag = False\n",
    "        attempts = 100\n",
    "        for i in range(attempts):\n",
    "            try:\n",
    "#                 time.sleep(1)\n",
    "                website_html = browser.html\n",
    "                print(f\"Retry {i+1}\")\n",
    "                website_soup = BeautifulSoup(website_html, \"html.parser\")\n",
    "                print(\"New html parsed\")\n",
    "                website_results = website_soup.find(\"div\", class_=\"inner-wrapper\")\n",
    "                picture_url = website_results.img[\"data-src\"]\n",
    "                print(\"Picture found!!!\")\n",
    "                flag = True\n",
    "            except:\n",
    "                print(f\"Attempt {i+1} failed\")\n",
    "            \n",
    "            if i == attempts - 1:\n",
    "                return None\n",
    "            if flag:\n",
    "                break\n",
    "        return picture_url"
   ]
  },
  {
   "cell_type": "code",
   "execution_count": 66,
   "metadata": {
    "scrolled": false
   },
   "outputs": [
    {
     "name": "stdout",
     "output_type": "stream",
     "text": [
      "browser opened\n",
      "html parsed\n",
      "Retry 1\n",
      "New html parsed\n",
      "Attempt 1 failed\n",
      "Retry 2\n",
      "New html parsed\n",
      "Picture found!!!\n",
      "https://img.sndimg.com:443/food/image/upload/c_thumb,q_80,w_721,h_405/v1/img/mpx/0279070_16x9.jpg\n",
      "browser opened\n",
      "html parsed\n",
      "Retry 1\n",
      "New html parsed\n",
      "Attempt 1 failed\n",
      "Retry 2\n",
      "New html parsed\n",
      "Picture found!!!\n",
      "https://img.sndimg.com:443/food/image/upload/c_thumb,q_80,w_721,h_405/v1/img/mpx/5458761_16x9.jpg\n",
      "browser opened\n",
      "html parsed\n",
      "Retry 1\n",
      "New html parsed\n",
      "Attempt 1 failed\n",
      "Retry 2\n",
      "New html parsed\n",
      "Picture found!!!\n",
      "https://img.sndimg.com:443/food/image/upload/c_thumb,q_80,w_721,h_405/v1/img/mpx/0279061_16x9.jpg\n",
      "browser opened\n",
      "html parsed\n",
      "Retry 1\n",
      "New html parsed\n",
      "Picture found!!!\n",
      "https://img.sndimg.com:443/food/image/upload/c_thumb,q_80,w_721,h_405/v1/img/recipes/89/20/4/uxMwt1VGQ5m2ePyzwHWy_salsa-chicken-black-beans-2312.jpg\n",
      "browser opened\n",
      "html parsed\n",
      "Retry 1\n",
      "New html parsed\n",
      "Picture found!!!\n",
      "https://img.sndimg.com:443/food/image/upload/c_thumb,q_80,w_721,h_405/v1/img/mpx/0279062_16x9.jpg\n",
      "browser opened\n",
      "html parsed\n",
      "Retry 1\n",
      "New html parsed\n",
      "Picture found!!!\n",
      "https://img.sndimg.com:443/food/image/upload/c_thumb,q_80,w_721,h_405/v1/img/mpx/0279069_16x9.jpg\n",
      "browser opened\n",
      "html parsed\n",
      "Retry 1\n",
      "New html parsed\n",
      "Attempt 1 failed\n",
      "Retry 2\n",
      "New html parsed\n",
      "Picture found!!!\n",
      "https://img.sndimg.com:443/food/image/upload/c_thumb,q_80,w_721,h_405/v1/img/mpx/0279065_16x9.jpg\n"
     ]
    }
   ],
   "source": [
    "print(scrape_image(39087, browser))\n",
    "print(scrape_image(2886, browser))\n",
    "print(scrape_image(27208, browser))\n",
    "print(scrape_image(89204, browser))\n",
    "print(scrape_image(67256, browser))\n",
    "print(scrape_image(54257, browser))\n",
    "print(scrape_image(32204, browser))"
   ]
  },
  {
   "cell_type": "code",
   "execution_count": 67,
   "metadata": {},
   "outputs": [],
   "source": [
    "browser.quit()"
   ]
  },
  {
   "cell_type": "code",
   "execution_count": null,
   "metadata": {},
   "outputs": [],
   "source": []
  }
 ],
 "metadata": {
  "kernelspec": {
   "display_name": "Python 3",
   "language": "python",
   "name": "python3"
  },
  "language_info": {
   "codemirror_mode": {
    "name": "ipython",
    "version": 3
   },
   "file_extension": ".py",
   "mimetype": "text/x-python",
   "name": "python",
   "nbconvert_exporter": "python",
   "pygments_lexer": "ipython3",
   "version": "3.6.10"
  }
 },
 "nbformat": 4,
 "nbformat_minor": 4
}
